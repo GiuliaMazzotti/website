{
 "cells": [
  {
   "cell_type": "markdown",
   "id": "outstanding-union",
   "metadata": {},
   "source": [
    "# Dynamic Query of SNOTEL data\n",
    "SnowEx Hackweek  \n",
    "July 13, 2021\n",
    "\n",
    "Author: David Shean"
   ]
  },
  {
   "cell_type": "markdown",
   "id": "angry-communications",
   "metadata": {},
   "source": [
    "## Introduction\n",
    "\n",
    "This tutorial will demonstrate a subset of basic concepts of geospatial data processing and analysis using data from the SNOTEL sensor network. We will demonstrate dynamic query of a public API to fetch point location data, review coordinate system transformations with GeoPandas, Geometry objects, and Pandas time series analysis/visualization.\n",
    "\n",
    "### Read a bit about SNOTEL data for the Western U.S.\n",
    "\n",
    "https://www.wcc.nrcs.usda.gov/snow/\n",
    "\n",
    "This is actually a nice web interface, with some advanced querying and interactive visualization.  You can also download formatted ASCII files (csv) for analysis.  This is great for one-time projects, but it's nice to have reproducible code that can be updated as new data appear, without manual steps.  That's what we're going to do here.\n",
    "\n",
    "#### About SNOTEL sites and data:\n",
    "* https://www.wcc.nrcs.usda.gov/about/mon_automate.html\n",
    "* https://www.wcc.nrcs.usda.gov/snotel/snotel_sensors.html\n",
    "* https://directives.sc.egov.usda.gov/OpenNonWebContent.aspx?content=27630.wba\n",
    "\n",
    "#### Sample plots for SNOTEL site at Paradise, WA (south side of Mt. Rainier)\n",
    "* https://www.nwrfc.noaa.gov/snow/snowplot.cgi?AFSW1\n",
    "* We will reproduce some of these plots/metrics in this tutorial\n",
    "\n",
    "#### Interactive dashboard\n",
    "* https://climate.washington.edu/climate-data/snowdepth/\n",
    "\n",
    "#### Snow today\n",
    "* https://nsidc.org/reports/snow-today"
   ]
  },
  {
   "cell_type": "markdown",
   "id": "inside-reform",
   "metadata": {},
   "source": [
    "## CUAHSI WOF server and automated Python data queries\n",
    "\n",
    "We are going to use a server set up by CUAHSI to serve the SNOTEL data, using a standardized database storage format and query structure.  You don't need to worry about this, but can quickly review the following:\n",
    "* http://hiscentral.cuahsi.org/pub_network.aspx?n=241 \n",
    "* http://his.cuahsi.org/wofws.html"
   ]
  },
  {
   "cell_type": "code",
   "execution_count": 2,
   "id": "nonprofit-hebrew",
   "metadata": {},
   "outputs": [],
   "source": [
    "#This is the latest CUAHSI API endpoint\n",
    "#http://his.cuahsi.org/wofws.html\n",
    "wsdlurl = 'http://hydroportal.cuahsi.org/Snotel/cuahsi_1_1.asmx?WSDL'"
   ]
  },
  {
   "cell_type": "markdown",
   "id": "competitive-scenario",
   "metadata": {},
   "source": [
    "### Acronym soup\n",
    "* SNOTEL = Snow Telemetry\n",
    "* CUAHSI = Consortium of Universities for the Advancement of Hydrologic Science, Inc\n",
    "* WOF = WaterOneFlow\n",
    "* WSDL = Web Services Description Language\n",
    "* USDA = United States Department of Agriculture\n",
    "* NRCS = National Resources Conservation Service\n",
    "* AWDB = Air-Water Database\n",
    "\n",
    "### Python options\n",
    "\n",
    "There are a few packages out there that offer convenience functions to query the online SNOTEL databases and unpack the results.  \n",
    "* climata (https://pypi.org/project/climata/) - last commit Sept 2017 (not a good sign)\n",
    "* ulmo (https://github.com/ulmo-dev/ulmo) - last commit Oct 2020 (will be superseded by a package called Quest, but still maintained by [Emilio Mayorga](https://apl.uw.edu/people/profile.php?last_name=Mayorga&first_name=Emilio) over at UW APL)\n",
    "\n",
    "You can also write your own queries using the Python `requests` module and some built-in XML parsing libraries.\n",
    "\n",
    "Hopefully not overwhelming amount of information - let's just go with ulmo for now.  I've done most of the work to prepare functions for querying and processing the data.  Once you wrap your head around all of the acronyms, it's pretty simple, basically running a few functions here: https://ulmo.readthedocs.io/en/latest/api.html#module-ulmo.cuahsi.wof\n",
    "\n",
    "We will use ulmo with daily data for this exercise, but please feel free to experiment with hourly data, other variables or other approaches to fetch SNOTEL data."
   ]
  },
  {
   "cell_type": "markdown",
   "id": "presidential-papua",
   "metadata": {},
   "source": [
    "### Important ulmo installation note\n",
    "\n",
    "We're going to use the latest development version of ulmo, straight from the github source!  This is a good exercise, and will show you how to install a package directly from source code on github."
   ]
  },
  {
   "cell_type": "code",
   "execution_count": 2,
   "id": "ancient-nature",
   "metadata": {},
   "outputs": [
    {
     "name": "stdout",
     "output_type": "stream",
     "text": [
      "Note: you may need to restart the kernel to use updated packages.\n"
     ]
    }
   ],
   "source": [
    "#Install directly from github repo main branch\n",
    "%pip install -q git+https://github.com/ulmo-dev/ulmo.git"
   ]
  },
  {
   "cell_type": "code",
   "execution_count": 1,
   "id": "absolute-florida",
   "metadata": {},
   "outputs": [],
   "source": [
    "#Despite warning, shouldn't need to restart kernel if all goes well\n",
    "import ulmo"
   ]
  },
  {
   "cell_type": "code",
   "execution_count": 3,
   "id": "pharmaceutical-honey",
   "metadata": {},
   "outputs": [],
   "source": [
    "import os\n",
    "from datetime import datetime\n",
    "import numpy as np\n",
    "import matplotlib.pyplot as plt\n",
    "import pandas as pd\n",
    "import geopandas as gpd\n",
    "from shapely.geometry import Point\n",
    "import contextily as ctx"
   ]
  },
  {
   "cell_type": "markdown",
   "id": "existing-infrastructure",
   "metadata": {},
   "source": [
    "## Part 1: Spatial Query SNOTEL sites\n",
    "* Use the ulmo cuahsi interface and the `get_sites` function to fetch available site metadata from server\n",
    "* This will return a Python dictionary"
   ]
  },
  {
   "cell_type": "code",
   "execution_count": null,
   "id": "romance-presentation",
   "metadata": {},
   "outputs": [],
   "source": [
    "sites = ulmo.cuahsi.wof.get_sites(wsdlurl)"
   ]
  },
  {
   "cell_type": "code",
   "execution_count": null,
   "id": "regulation-concord",
   "metadata": {},
   "outputs": [],
   "source": [
    "#Preview first item in dictionary\n",
    "next(iter(sites.items()))"
   ]
  },
  {
   "cell_type": "markdown",
   "id": "supreme-trauma",
   "metadata": {},
   "source": [
    "### Store the dictionary as a Pandas DataFrame called `sites_df`\n",
    "* See the Pandas `from_dict` function\n",
    "* Use `orient` option so the sites comprise the DataFrame index, with columns for 'name', 'elevation_m', etc\n",
    "* Use the `dropna` method to remove any empty records"
   ]
  },
  {
   "cell_type": "code",
   "execution_count": null,
   "id": "clean-anger",
   "metadata": {},
   "outputs": [],
   "source": [
    "sites_df = pd.DataFrame.from_dict(sites, orient='index').dropna()\n",
    "sites_df.head()"
   ]
  },
  {
   "cell_type": "markdown",
   "id": "floppy-madrid",
   "metadata": {},
   "source": [
    "### Clean up the DataFrame and prepare Point geometry objects\n",
    "* Convert `'location'` column (contains dictionary with `'latitude'` and `'longitude'` values) to Shapely `Point` objects\n",
    "* Store as a new `'geometry'` column (needed by GeoPandas)\n",
    "* Drop the `'location'` column, as this is no longer needed\n",
    "* Update the `dtype` of the `'elevation_m'` column to float"
   ]
  },
  {
   "cell_type": "code",
   "execution_count": null,
   "id": "focal-interest",
   "metadata": {},
   "outputs": [],
   "source": [
    "sites_df['geometry'] = [Point(float(loc['longitude']), float(loc['latitude'])) for loc in sites_df['location']]"
   ]
  },
  {
   "cell_type": "code",
   "execution_count": null,
   "id": "periodic-tribune",
   "metadata": {},
   "outputs": [],
   "source": [
    "sites_df = sites_df.drop(columns='location')\n",
    "sites_df = sites_df.astype({\"elevation_m\":float})"
   ]
  },
  {
   "cell_type": "markdown",
   "id": "constitutional-dutch",
   "metadata": {},
   "source": [
    "### Review output\n",
    "* Take a moment to familiarize yourself with the DataFrame structure and different columns.\n",
    "* Note that the index is a set of strings with format 'SNOTEL:1000_OR_SNTL'\n",
    "* Extract the first record with `loc`\n",
    "    * Review the `'site_property'` dictionary - could parse this and store as separate fields in the DataFrame if desired"
   ]
  },
  {
   "cell_type": "code",
   "execution_count": null,
   "id": "united-royalty",
   "metadata": {},
   "outputs": [],
   "source": [
    "sites_df.head()"
   ]
  },
  {
   "cell_type": "code",
   "execution_count": null,
   "id": "square-presence",
   "metadata": {},
   "outputs": [],
   "source": [
    "sites_df.loc['SNOTEL:301_CA_SNTL']"
   ]
  },
  {
   "cell_type": "code",
   "execution_count": null,
   "id": "varied-albania",
   "metadata": {},
   "outputs": [],
   "source": [
    "sites_df.loc['SNOTEL:301_CA_SNTL']['site_property']"
   ]
  },
  {
   "cell_type": "markdown",
   "id": "sapphire-apparatus",
   "metadata": {},
   "source": [
    "### Convert to a Geopandas GeoDataFrame\n",
    "* We already have `'geometry'` column, but still need to define the `crs` of the point coordiantes\n",
    "* Note the number of records"
   ]
  },
  {
   "cell_type": "code",
   "execution_count": null,
   "id": "comic-sleeve",
   "metadata": {},
   "outputs": [],
   "source": [
    "sites_gdf_all = gpd.GeoDataFrame(sites_df, crs='EPSG:4326')\n",
    "sites_gdf_all.head()"
   ]
  },
  {
   "cell_type": "code",
   "execution_count": null,
   "id": "steady-undergraduate",
   "metadata": {},
   "outputs": [],
   "source": [
    "sites_gdf_all.shape"
   ]
  },
  {
   "cell_type": "markdown",
   "id": "divine-stranger",
   "metadata": {},
   "source": [
    "### Create a scatterplot showing elevation values for all sites"
   ]
  },
  {
   "cell_type": "code",
   "execution_count": null,
   "id": "pressed-alcohol",
   "metadata": {},
   "outputs": [],
   "source": [
    "#geojson of state polygons\n",
    "states_url = 'http://eric.clst.org/assets/wiki/uploads/Stuff/gz_2010_us_040_00_5m.json'\n",
    "states_gdf = gpd.read_file(states_url)"
   ]
  },
  {
   "cell_type": "code",
   "execution_count": null,
   "id": "heard-michael",
   "metadata": {},
   "outputs": [],
   "source": [
    "f, ax = plt.subplots(figsize=(10,6))\n",
    "sites_gdf_all.plot(ax=ax, column='elevation_m', markersize=3, cmap='inferno', legend=True, legend_kwds={'label': \"Elevation (m)\"})\n",
    "#This prevents matplotlib from updating the axes extent (states polygons cover larger area than SNOTEL points)\n",
    "ax.autoscale(False)\n",
    "states_gdf.plot(ax=ax, facecolor='none', edgecolor='k', alpha=0.3);"
   ]
  },
  {
   "cell_type": "markdown",
   "id": "vietnamese-socket",
   "metadata": {},
   "source": [
    "### Exclude the Alaska (AK) points to isolate points over Western U.S.\n",
    "* Simple appraoch is to remove points where the site name contains 'AK' with attribute filter\n",
    "* Note the number of records"
   ]
  },
  {
   "cell_type": "code",
   "execution_count": null,
   "id": "naked-gravity",
   "metadata": {},
   "outputs": [],
   "source": [
    "sites_gdf_conus = sites_gdf_all[~(sites_gdf_all.index.str.contains('AK'))]"
   ]
  },
  {
   "cell_type": "markdown",
   "id": "color-height",
   "metadata": {},
   "source": [
    "* Alternatively, can use a spatial filter (see GeoPandas `cx` indexer functionality for a bounding box)"
   ]
  },
  {
   "cell_type": "code",
   "execution_count": null,
   "id": "biological-chambers",
   "metadata": {},
   "outputs": [],
   "source": [
    "#xmin, xmax, ymin, ymax = [-126, 102, 30, 50]\n",
    "#sites_gdf_conus = sites_gdf_all.cx[xmin:xmax, ymin:ymax]"
   ]
  },
  {
   "cell_type": "code",
   "execution_count": null,
   "id": "straight-bronze",
   "metadata": {},
   "outputs": [],
   "source": [
    "sites_gdf_conus.shape"
   ]
  },
  {
   "cell_type": "markdown",
   "id": "nutritional-hardwood",
   "metadata": {},
   "source": [
    "### Update your scatterplot as sanity check\n",
    "* Should look something like the Western U.S."
   ]
  },
  {
   "cell_type": "code",
   "execution_count": null,
   "id": "compressed-judges",
   "metadata": {},
   "outputs": [],
   "source": [
    "f, ax = plt.subplots(figsize=(10,6))\n",
    "sites_gdf_conus.plot(ax=ax, column='elevation_m', markersize=3, cmap='inferno', legend=True, legend_kwds={'label': \"Elevation (m)\"})\n",
    "ax.autoscale(False)\n",
    "states_gdf.plot(ax=ax, facecolor='none', edgecolor='k', alpha=0.3);"
   ]
  },
  {
   "cell_type": "markdown",
   "id": "light-lyric",
   "metadata": {},
   "source": [
    "### Export SNOTEL site GeoDataFrame as a geojson\n",
    "* Maybe useful for other purposes, and can avoid all of the above processing, just load directly with geopandas `read_file`"
   ]
  },
  {
   "cell_type": "code",
   "execution_count": null,
   "id": "looking-table",
   "metadata": {},
   "outputs": [],
   "source": [
    "sites_gdf_conus.to_file?"
   ]
  },
  {
   "cell_type": "code",
   "execution_count": null,
   "id": "isolated-restoration",
   "metadata": {},
   "outputs": [],
   "source": [
    "sites_fn = 'snotel_conus_sites.json'\n",
    "if not os.path.exists(sites_fn):\n",
    "    sites_gdf_conus.to_file(sites_fn, driver='GeoJSON')"
   ]
  },
  {
   "cell_type": "markdown",
   "id": "unexpected-walker",
   "metadata": {},
   "source": [
    "## Part 2: Spatial filter points by polygon"
   ]
  },
  {
   "cell_type": "markdown",
   "id": "reported-turtle",
   "metadata": {},
   "source": [
    "### Load Grand Mesa Polygon"
   ]
  },
  {
   "cell_type": "code",
   "execution_count": null,
   "id": "pregnant-guidance",
   "metadata": {},
   "outputs": [],
   "source": [
    "gm_poly_fn = 'grand_mesa_poly.geojson'"
   ]
  },
  {
   "cell_type": "code",
   "execution_count": null,
   "id": "designed-maximum",
   "metadata": {},
   "outputs": [],
   "source": [
    "gm_poly_gdf = gpd.read_file(gm_poly_fn)"
   ]
  },
  {
   "cell_type": "code",
   "execution_count": null,
   "id": "consolidated-covering",
   "metadata": {},
   "outputs": [],
   "source": [
    "gm_poly_gdf.plot()"
   ]
  },
  {
   "cell_type": "markdown",
   "id": "moderate-tongue",
   "metadata": {},
   "source": [
    "## A quick aside on `geometry` objects"
   ]
  },
  {
   "cell_type": "markdown",
   "id": "alpine-cloud",
   "metadata": {},
   "source": [
    "### Vector data contain `geometry` objects\n",
    "* Classes (Point, Line, Polygon) with unique attribute and methods\n",
    "* Polygon vs. MultiPolygon\n",
    "* https://automating-gis-processes.github.io/site/notebooks/L1/geometric-objects.html\n",
    "* https://shapely.readthedocs.io/en/stable/manual.html#geometric-objects"
   ]
  },
  {
   "cell_type": "markdown",
   "id": "acting-article",
   "metadata": {},
   "source": [
    "![Geometry types](https://datacarpentry.org/organization-geospatial/fig/dc-spatial-vector/pnt_line_poly.png)\n",
    "Image Source: National Ecological Observatory Network (NEON), from https://datacarpentry.org/organization-geospatial"
   ]
  },
  {
   "cell_type": "markdown",
   "id": "macro-blues",
   "metadata": {},
   "source": [
    "### Isolate Polygon geometry within GeoDataFrame"
   ]
  },
  {
   "cell_type": "code",
   "execution_count": null,
   "id": "excessive-marker",
   "metadata": {},
   "outputs": [],
   "source": [
    "type(gm_poly_gdf)"
   ]
  },
  {
   "cell_type": "code",
   "execution_count": null,
   "id": "collect-president",
   "metadata": {},
   "outputs": [],
   "source": [
    "gm_poly_gdf"
   ]
  },
  {
   "cell_type": "code",
   "execution_count": null,
   "id": "tamil-cliff",
   "metadata": {},
   "outputs": [],
   "source": [
    "gm_poly_gdf.total_bounds"
   ]
  },
  {
   "cell_type": "code",
   "execution_count": null,
   "id": "impressed-statement",
   "metadata": {},
   "outputs": [],
   "source": [
    "gm_poly_gdf.iloc[0] #Now a GeoSeries"
   ]
  },
  {
   "cell_type": "code",
   "execution_count": null,
   "id": "focused-pottery",
   "metadata": {},
   "outputs": [],
   "source": [
    "gm_poly_geom = gm_poly_gdf.iloc[0].geometry\n",
    "gm_poly_geom"
   ]
  },
  {
   "cell_type": "code",
   "execution_count": null,
   "id": "acting-hungary",
   "metadata": {},
   "outputs": [],
   "source": [
    "print(gm_poly_geom)"
   ]
  },
  {
   "cell_type": "code",
   "execution_count": null,
   "id": "attached-yield",
   "metadata": {},
   "outputs": [],
   "source": [
    "list(gm_poly_geom.exterior.coords)"
   ]
  },
  {
   "cell_type": "code",
   "execution_count": null,
   "id": "statutory-bookmark",
   "metadata": {},
   "outputs": [],
   "source": [
    "gm_poly_geom.bounds"
   ]
  },
  {
   "cell_type": "markdown",
   "id": "appreciated-question",
   "metadata": {},
   "source": [
    "### Generate boolean index for points that intersect the polygon\n",
    "* This will return a new GeoDataSeries with True/False values for each record"
   ]
  },
  {
   "cell_type": "code",
   "execution_count": null,
   "id": "sweet-right",
   "metadata": {},
   "outputs": [],
   "source": [
    "idx = sites_gdf_all.intersects(gm_poly_geom)"
   ]
  },
  {
   "cell_type": "code",
   "execution_count": null,
   "id": "hazardous-xerox",
   "metadata": {},
   "outputs": [],
   "source": [
    "idx.head()"
   ]
  },
  {
   "cell_type": "code",
   "execution_count": null,
   "id": "difficult-armenia",
   "metadata": {},
   "outputs": [],
   "source": [
    "idx.value_counts()"
   ]
  },
  {
   "cell_type": "markdown",
   "id": "adapted-rugby",
   "metadata": {},
   "source": [
    "### Use fancy indexing to isolate points and return new GeoDataFrame"
   ]
  },
  {
   "cell_type": "code",
   "execution_count": null,
   "id": "certain-mattress",
   "metadata": {},
   "outputs": [],
   "source": [
    "gm_snotel_sites = sites_gdf_all.loc[idx]"
   ]
  },
  {
   "cell_type": "code",
   "execution_count": null,
   "id": "magnetic-prevention",
   "metadata": {},
   "outputs": [],
   "source": [
    "gm_snotel_sites"
   ]
  },
  {
   "cell_type": "markdown",
   "id": "other-wrestling",
   "metadata": {},
   "source": [
    "### Quick plot"
   ]
  },
  {
   "cell_type": "code",
   "execution_count": null,
   "id": "synthetic-teens",
   "metadata": {},
   "outputs": [],
   "source": [
    "f, ax = plt.subplots(figsize=(10,6))\n",
    "gm_snotel_sites.plot(ax=ax, column='elevation_m', markersize=20, edgecolor='k', cmap='inferno', \\\n",
    "                  legend=True, legend_kwds={'label':'Elevation (m)'})\n",
    "#ctx.add_basemap(ax=ax, crs=gm_snotel_sites.crs, source=ctx.providers.Stamen.Terrain)\n",
    "ax.set_title('Grand Mesa SNOTEL Stations');"
   ]
  },
  {
   "cell_type": "code",
   "execution_count": null,
   "id": "attractive-sunglasses",
   "metadata": {},
   "outputs": [],
   "source": [
    "import hvplot.pandas\n",
    "from geoviews import tile_sources as gvts"
   ]
  },
  {
   "cell_type": "code",
   "execution_count": null,
   "id": "spanish-binary",
   "metadata": {},
   "outputs": [],
   "source": [
    "gm_snotel_sites.hvplot(hover_cols=['index','name']) * gm_poly_gdf.to_crs(gm_snotel_sites.crs).hvplot(color='none')"
   ]
  },
  {
   "cell_type": "markdown",
   "id": "manufactured-activity",
   "metadata": {},
   "source": [
    "### Add a basemap\n",
    "This functionality will add a publicly available tiled basemap to your interactive holoviews plot, which is useful for context during interactive visualization.\n",
    "\n",
    "Note that we need to reproject our GeoDataframe to match the CRS of the tiled basemap here.\n",
    "\n",
    "For static plots with matplotlib (e.g., for publication) can also use `contextily` for this https://contextily.readthedocs.io/en/latest/"
   ]
  },
  {
   "cell_type": "code",
   "execution_count": null,
   "id": "realistic-veteran",
   "metadata": {},
   "outputs": [],
   "source": [
    "map_tiles = gvts.EsriImagery"
   ]
  },
  {
   "cell_type": "code",
   "execution_count": null,
   "id": "trying-execution",
   "metadata": {},
   "outputs": [],
   "source": [
    "map_tiles * gm_snotel_sites.to_crs('EPSG:3857').hvplot(hover_cols=['index','name']) * \\\n",
    "gm_poly_gdf.to_crs('EPSG:3857').hvplot(color='none')"
   ]
  },
  {
   "cell_type": "markdown",
   "id": "absent-pierre",
   "metadata": {},
   "source": [
    "## Part 3: Time series analysis for one station\n",
    "Now that we've identified sites of interest, let's query the API to obtain the time series data for variables of interest (snow!)."
   ]
  },
  {
   "cell_type": "markdown",
   "id": "relative-facility",
   "metadata": {},
   "source": [
    "https://wcc.sc.egov.usda.gov/nwcc/site?sitenum=622&state=co"
   ]
  },
  {
   "cell_type": "code",
   "execution_count": 4,
   "id": "north-peace",
   "metadata": {},
   "outputs": [
    {
     "ename": "NameError",
     "evalue": "name 'gm_snotel_sites' is not defined",
     "output_type": "error",
     "traceback": [
      "\u001b[0;31m---------------------------------------------------------------------------\u001b[0m",
      "\u001b[0;31mNameError\u001b[0m                                 Traceback (most recent call last)",
      "\u001b[0;32m<ipython-input-4-3ca41c430fa6>\u001b[0m in \u001b[0;36m<module>\u001b[0;34m\u001b[0m\n\u001b[0;32m----> 1\u001b[0;31m \u001b[0msitecode\u001b[0m \u001b[0;34m=\u001b[0m \u001b[0mgm_snotel_sites\u001b[0m\u001b[0;34m.\u001b[0m\u001b[0mindex\u001b[0m\u001b[0;34m[\u001b[0m\u001b[0;34m-\u001b[0m\u001b[0;36m1\u001b[0m\u001b[0;34m]\u001b[0m\u001b[0;34m\u001b[0m\u001b[0;34m\u001b[0m\u001b[0m\n\u001b[0m\u001b[1;32m      2\u001b[0m \u001b[0msitecode\u001b[0m\u001b[0;34m\u001b[0m\u001b[0;34m\u001b[0m\u001b[0m\n",
      "\u001b[0;31mNameError\u001b[0m: name 'gm_snotel_sites' is not defined"
     ]
    }
   ],
   "source": [
    "sitecode = gm_snotel_sites.index[-1]\n",
    "sitecode"
   ]
  },
  {
   "cell_type": "markdown",
   "id": "outer-silver",
   "metadata": {},
   "source": [
    "### Get available measurements for this site\n",
    "Note that there are many standard meteorological variables that can be downloaded for this site, in addition to the snow depth and snow water equivalent."
   ]
  },
  {
   "cell_type": "code",
   "execution_count": null,
   "id": "driving-bradley",
   "metadata": {},
   "outputs": [],
   "source": [
    "ulmo.cuahsi.wof.get_site_info(wsdlurl, sitecode)['series'].keys()"
   ]
  },
  {
   "cell_type": "markdown",
   "id": "stone-divorce",
   "metadata": {},
   "source": [
    "* _H = \"hourly\"\n",
    "* _D = \"daily\"\n",
    "* _sm, _m = \"monthly\""
   ]
  },
  {
   "cell_type": "markdown",
   "id": "affecting-wiring",
   "metadata": {},
   "source": [
    "### Let's consider the 'SNOTEL:SNWD_D' variable (Daily Snow Depth)\n",
    "* Assign 'SNOTEL:SNWD_D' to a variable named `variablecode`\n",
    "* Get some information about the variable using `get_variable_info` method\n",
    "    * Note the units, nodata value, etc.\n",
    "* **Note: The snow depth records are almost always shorter/noisier than the SWE records for SNOTEL sites**"
   ]
  },
  {
   "cell_type": "code",
   "execution_count": null,
   "id": "extreme-might",
   "metadata": {},
   "outputs": [],
   "source": [
    "#Daily SWE\n",
    "#variablecode = 'SNOTEL:WTEQ_D'\n",
    "#Daily snow depth\n",
    "variablecode = 'SNOTEL:SNWD_D'"
   ]
  },
  {
   "cell_type": "code",
   "execution_count": null,
   "id": "enormous-antigua",
   "metadata": {},
   "outputs": [],
   "source": [
    "#Hourly SWE\n",
    "#variablecode = 'SNOTEL:WTEQ_H'\n",
    "#Hourly snow depth\n",
    "#variablecode = 'SNOTEL:SNWD_H'"
   ]
  },
  {
   "cell_type": "code",
   "execution_count": null,
   "id": "outstanding-indicator",
   "metadata": {},
   "outputs": [],
   "source": [
    "ulmo.cuahsi.wof.get_variable_info(wsdlurl, variablecode)"
   ]
  },
  {
   "cell_type": "markdown",
   "id": "welsh-budapest",
   "metadata": {},
   "source": [
    "### Define a function to fetch data\n",
    "* I've done this for you, but please review the comments and steps to see what is going on under the hood\n",
    "* You'll probably have to do similar data wrangling for another project at some point in the future"
   ]
  },
  {
   "cell_type": "code",
   "execution_count": null,
   "id": "collaborative-gothic",
   "metadata": {},
   "outputs": [],
   "source": [
    "#Get current datetime\n",
    "today = datetime.today().strftime('%Y-%m-%d')\n",
    "\n",
    "def snotel_fetch(sitecode, variablecode='SNOTEL:SNWD_D', start_date='1950-10-01', end_date=today):\n",
    "    #print(sitecode, variablecode, start_date, end_date)\n",
    "    values_df = None\n",
    "    try:\n",
    "        #Request data from the server\n",
    "        site_values = ulmo.cuahsi.wof.get_values(wsdlurl, sitecode, variablecode, start=start_date, end=end_date)\n",
    "        #Convert to a Pandas DataFrame   \n",
    "        values_df = pd.DataFrame.from_dict(site_values['values'])\n",
    "        #Parse the datetime values to Pandas Timestamp objects\n",
    "        values_df['datetime'] = pd.to_datetime(values_df['datetime'], utc=True)\n",
    "        #Set the DataFrame index to the Timestamps\n",
    "        values_df = values_df.set_index('datetime')\n",
    "        #Convert values to float and replace -9999 nodata values with NaN\n",
    "        values_df['value'] = pd.to_numeric(values_df['value']).replace(-9999, np.nan)\n",
    "        #Remove any records flagged with lower quality\n",
    "        values_df = values_df[values_df['quality_control_level_code'] == '1']\n",
    "    except:\n",
    "        print(\"Unable to fetch %s\" % variablecode)\n",
    "\n",
    "    return values_df"
   ]
  },
  {
   "cell_type": "markdown",
   "id": "appropriate-category",
   "metadata": {},
   "source": [
    "### Use this function to get the full 'SNOTEL:SNWD_D' record for one station\n",
    "* Inspect the results\n",
    "* We used a dummy start date of Jan 1, 1950.  What is the actual the first date returned?"
   ]
  },
  {
   "cell_type": "code",
   "execution_count": null,
   "id": "cognitive-summer",
   "metadata": {},
   "outputs": [],
   "source": [
    "#Get all records, can filter later\n",
    "start_date = datetime(1950,1,1)\n",
    "end_date = datetime.today()"
   ]
  },
  {
   "cell_type": "code",
   "execution_count": null,
   "id": "binary-judgment",
   "metadata": {},
   "outputs": [],
   "source": [
    "print(sitecode)\n",
    "values_df = snotel_fetch(sitecode, variablecode, start_date, end_date)\n",
    "# values_df.shape David had to comment this out"
   ]
  },
  {
   "cell_type": "code",
   "execution_count": null,
   "id": "extended-differential",
   "metadata": {},
   "outputs": [],
   "source": [
    "values_df.head()"
   ]
  },
  {
   "cell_type": "code",
   "execution_count": null,
   "id": "signed-hospital",
   "metadata": {},
   "outputs": [],
   "source": [
    "#Get number of decimal years between first and last observation\n",
    "nyears = (values_df.index.max() - values_df.index.min()).days/365.25\n",
    "nyears"
   ]
  },
  {
   "cell_type": "markdown",
   "id": "conservative-praise",
   "metadata": {},
   "source": [
    "### Create a quick plot to view the time series\n",
    "* Take a moment to inspect the `value` column, which is where the `SNWD_D` values are stored\n",
    "* Sanity check thought question: *What are the units again?*\n",
    "\n",
    "Note from Joe: \n",
    "Regards hourly SNOTEL snow depth - these are not quality controlled and should be used with caution. The 'End of Day' value for depth is the a better value to use and quality controlled"
   ]
  },
  {
   "cell_type": "code",
   "execution_count": null,
   "id": "banner-uncle",
   "metadata": {},
   "outputs": [],
   "source": [
    "values_df.hvplot()"
   ]
  },
  {
   "cell_type": "markdown",
   "id": "dental-christian",
   "metadata": {},
   "source": [
    "### Compute the integer day of year (doy) and integer day of water year (dowy)\n",
    "* Can get doy for each record with `df.index.dayofyear`\n",
    "    * Can compute on the fly, but add a new column to store these values\n",
    "    * https://pandas.pydata.org/pandas-docs/version/0.19/generated/pandas.DatetimeIndex.dayofyear.html\n",
    "* For the day of water year, you'll need to offset by 9 months, then compute day of year\n",
    "    * https://en.wikipedia.org/wiki/Water_year\n",
    "    * Add another column to store these values"
   ]
  },
  {
   "cell_type": "code",
   "execution_count": null,
   "id": "sporting-composite",
   "metadata": {},
   "outputs": [],
   "source": [
    "#Add DOY and DOWY column\n",
    "#Need to revisit for leap year support\n",
    "def add_dowy(df, col=None):\n",
    "    if col is None:\n",
    "        df['doy'] = df.index.dayofyear\n",
    "    else:\n",
    "        df['doy'] = df[col].dayofyear\n",
    "    # Sept 30 is doy 273\n",
    "    df['dowy'] = df['doy'] - 273\n",
    "    df.loc[df['dowy'] <= 0, 'dowy'] += 365"
   ]
  },
  {
   "cell_type": "code",
   "execution_count": null,
   "id": "processed-elephant",
   "metadata": {},
   "outputs": [],
   "source": [
    "add_dowy(values_df)"
   ]
  },
  {
   "cell_type": "markdown",
   "id": "numeric-breed",
   "metadata": {},
   "source": [
    "### Compute statistics for each day of the water year, using values from all years\n",
    "* Seems like a Pandas groupby/agg might work here\n",
    "* Stats should at least include min, max, mean, and median"
   ]
  },
  {
   "cell_type": "code",
   "execution_count": null,
   "id": "usual-pottery",
   "metadata": {},
   "outputs": [],
   "source": [
    "stat_list = ['count','min','max','mean','std','median','mad']"
   ]
  },
  {
   "cell_type": "code",
   "execution_count": null,
   "id": "sunset-builder",
   "metadata": {},
   "outputs": [],
   "source": [
    "doy_stats = values_df.groupby('dowy').agg(stat_list)['value']\n",
    "doy_stats"
   ]
  },
  {
   "cell_type": "markdown",
   "id": "neural-flower",
   "metadata": {},
   "source": [
    "### Create a plot of these aggregated dowy values\n",
    "* Something like the 30-year mean and median here: https://www.nwrfc.noaa.gov/snow/plot_SWE.php?id=AFSW1"
   ]
  },
  {
   "cell_type": "code",
   "execution_count": null,
   "id": "polyphonic-nigeria",
   "metadata": {},
   "outputs": [],
   "source": [
    "f,ax = plt.subplots(figsize=(10,5))\n",
    "\n",
    "for stat in ['min','max','mean','median']:\n",
    "    ax.plot(doy_stats.index, doy_stats[stat], label=stat)\n",
    "\n",
    "ax.fill_between(doy_stats.index, doy_stats['mean'] - doy_stats['std'], doy_stats['mean'] + doy_stats['std'], \\\n",
    "                color='lightgrey', label='1-std')\n",
    "\n",
    "title = f'{sitecode}: \\n{values_df.index.min().date()} to {values_df.index.max().date()} ({nyears:.2f} years)'\n",
    "\n",
    "ax.set_title(title)\n",
    "ax.set_xlabel('Day of Water Year (Oct 1)')\n",
    "ax.set_ylabel('Snow depth (in)')\n",
    "ax.grid()\n",
    "ax.legend()\n",
    "ax.set_xlim(0,366)\n",
    "ax.set_ylim(bottom=0);"
   ]
  },
  {
   "cell_type": "markdown",
   "id": "dietary-psychiatry",
   "metadata": {},
   "source": [
    "### Add the daily snow depth values for the current water year\n",
    "* Can use pandas indexing here with simple strings ('YYYY-MM-DD'), or Timestamp objects\n",
    "    * Standard slicing also works with `:`\n",
    "* Make sure to `dropna` to remove any records missing data\n",
    "* Add this to your plot"
   ]
  },
  {
   "cell_type": "code",
   "execution_count": null,
   "id": "dense-interim",
   "metadata": {},
   "outputs": [],
   "source": [
    "#Define variable to store current year\n",
    "curr_y = datetime.now().year\n",
    "curr_y"
   ]
  },
  {
   "cell_type": "code",
   "execution_count": null,
   "id": "swiss-incentive",
   "metadata": {},
   "outputs": [],
   "source": [
    "#df_wy = values_df.loc['2019-10-1':].dropna()\n",
    "df_wy = values_df.loc[f'{curr_y-1}-10-1':].dropna()"
   ]
  },
  {
   "cell_type": "code",
   "execution_count": null,
   "id": "inappropriate-sustainability",
   "metadata": {},
   "outputs": [],
   "source": [
    "f,ax = plt.subplots(figsize=(10,5))\n",
    "for stat in ['min','max','mean','median']:\n",
    "    ax.plot(doy_stats.index, doy_stats[stat], label=stat)\n",
    "\n",
    "ax.fill_between(doy_stats.index, doy_stats['mean'] - doy_stats['std'], doy_stats['mean'] + doy_stats['std'], \\\n",
    "                color='lightgrey', label='1-std')\n",
    "\n",
    "ax.set_title(title)\n",
    "ax.set_xlabel('Day of Water Year')\n",
    "ax.set_ylabel('Snow depth (in)')\n",
    "ax.grid()\n",
    "ax.plot(df_wy['dowy'], df_wy['value'], marker='.', color='k', ls='none', label='Current WY')\n",
    "ax.legend()\n",
    "ax.set_xlim(0,366)\n",
    "ax.set_ylim(bottom=0);"
   ]
  },
  {
   "cell_type": "markdown",
   "id": "contained-edinburgh",
   "metadata": {},
   "source": [
    "### What was the percentage of \"normal\" snow depth on April 1 of this year?\n",
    "* Can use long-term median for this dowy"
   ]
  },
  {
   "cell_type": "code",
   "execution_count": null,
   "id": "polar-david",
   "metadata": {},
   "outputs": [],
   "source": [
    "df_wy.loc[f'{curr_y}-4-1']"
   ]
  },
  {
   "cell_type": "code",
   "execution_count": null,
   "id": "measured-customer",
   "metadata": {},
   "outputs": [],
   "source": [
    "apr1_doy = df_wy.loc[f'{curr_y}-4-1']['dowy']\n",
    "apr1_doy"
   ]
  },
  {
   "cell_type": "code",
   "execution_count": null,
   "id": "nuclear-adoption",
   "metadata": {},
   "outputs": [],
   "source": [
    "doy_stats.loc[apr1_doy]"
   ]
  },
  {
   "cell_type": "code",
   "execution_count": null,
   "id": "demonstrated-movie",
   "metadata": {},
   "outputs": [],
   "source": [
    "#Percent of normal\n",
    "perc_normal = 100 * df_wy.loc[f'{curr_y}-4-1']['value']/doy_stats.loc[apr1_doy]['median']\n",
    "print(f'{perc_normal:0.2f}% percent of normal snow depth on DOWY {apr1_doy} in {curr_y}')"
   ]
  },
  {
   "cell_type": "markdown",
   "id": "supreme-january",
   "metadata": {},
   "source": [
    "### Index DataFrame by date or date range\n",
    "* Maybe useful for project work"
   ]
  },
  {
   "cell_type": "code",
   "execution_count": null,
   "id": "frozen-transformation",
   "metadata": {},
   "outputs": [],
   "source": [
    "dt1 = '2017-2-1'\n",
    "dt2 = '2017-2-4'"
   ]
  },
  {
   "cell_type": "code",
   "execution_count": null,
   "id": "killing-courage",
   "metadata": {},
   "outputs": [],
   "source": [
    "#Single date\n",
    "values_df.loc[dt1]"
   ]
  },
  {
   "cell_type": "code",
   "execution_count": null,
   "id": "emerging-oxford",
   "metadata": {},
   "outputs": [],
   "source": [
    "values_df.loc[dt1]['value']"
   ]
  },
  {
   "cell_type": "code",
   "execution_count": null,
   "id": "excellent-algorithm",
   "metadata": {},
   "outputs": [],
   "source": [
    "values_df.loc[dt1:dt2]"
   ]
  },
  {
   "cell_type": "markdown",
   "id": "balanced-animation",
   "metadata": {},
   "source": [
    "### Query multiple sites\n",
    "* Can use a loop to query multiple sites and/or variables"
   ]
  },
  {
   "cell_type": "code",
   "execution_count": null,
   "id": "together-international",
   "metadata": {},
   "outputs": [],
   "source": [
    "#Define an empty dictionary to store returns for each site\n",
    "value_dict = {}\n",
    "for i, sitecode in enumerate(gm_snotel_sites.index):\n",
    "    print('%i of %i sites: %s' % (i+1, len(gm_snotel_sites.index), sitecode))\n",
    "    out = snotel_fetch(sitecode, variablecode)\n",
    "    if out is not None:\n",
    "        value_dict[sitecode] = out['value']\n",
    "#Convert the dictionary to a DataFrame, automatically handles different datetime ranges (nice!)\n",
    "multi_df = pd.DataFrame.from_dict(value_dict)"
   ]
  },
  {
   "cell_type": "code",
   "execution_count": null,
   "id": "centered-negotiation",
   "metadata": {},
   "outputs": [],
   "source": [
    "multi_df"
   ]
  },
  {
   "cell_type": "code",
   "execution_count": null,
   "id": "wireless-russian",
   "metadata": {},
   "outputs": [],
   "source": [
    "multi_df.hvplot()"
   ]
  },
  {
   "cell_type": "code",
   "execution_count": null,
   "id": "regional-current",
   "metadata": {},
   "outputs": [],
   "source": [
    "#Hack to remove bad measurements\n",
    "multi_df[multi_df > 190] = np.nan"
   ]
  },
  {
   "cell_type": "code",
   "execution_count": null,
   "id": "adjusted-index",
   "metadata": {},
   "outputs": [],
   "source": [
    "multi_df.hvplot()"
   ]
  },
  {
   "cell_type": "markdown",
   "id": "honey-piece",
   "metadata": {},
   "source": [
    "### Scatterplot to compare corresponding values"
   ]
  },
  {
   "cell_type": "code",
   "execution_count": null,
   "id": "middle-munich",
   "metadata": {},
   "outputs": [],
   "source": [
    "multi_df.dropna().hvplot(kind='scatter', x='SNOTEL:622_CO_SNTL', y='SNOTEL:682_CO_SNTL', \\\n",
    "                         aspect='equal', s=1)"
   ]
  },
  {
   "cell_type": "markdown",
   "id": "floral-joseph",
   "metadata": {},
   "source": [
    "### Determine Pearson's correlation coefficient for the two time series\n",
    "* https://en.wikipedia.org/wiki/Pearson_correlation_coefficient\n",
    "* See the Pandas `corr` method\n",
    "    * This should properly handle nan under the hood!"
   ]
  },
  {
   "cell_type": "code",
   "execution_count": null,
   "id": "returning-handling",
   "metadata": {},
   "outputs": [],
   "source": [
    "multi_df.corr()"
   ]
  },
  {
   "cell_type": "markdown",
   "id": "fancy-norwegian",
   "metadata": {},
   "source": [
    "Highly correlated snow depth records for these two sites!"
   ]
  },
  {
   "cell_type": "markdown",
   "id": "lined-regulation",
   "metadata": {},
   "source": [
    "## Summary\n",
    "\n",
    "Geospatial cookbook --> not finish, won't render on its own but can be played with!\n"
   ]
  },
  {
   "cell_type": "code",
   "execution_count": null,
   "id": "embedded-pride",
   "metadata": {},
   "outputs": [],
   "source": []
  }
 ],
 "metadata": {
  "kernelspec": {
   "display_name": "Python 3",
   "language": "python",
   "name": "python3"
  },
  "language_info": {
   "codemirror_mode": {
    "name": "ipython",
    "version": 3
   },
   "file_extension": ".py",
   "mimetype": "text/x-python",
   "name": "python",
   "nbconvert_exporter": "python",
   "pygments_lexer": "ipython3",
   "version": "3.8.8"
  }
 },
 "nbformat": 4,
 "nbformat_minor": 5
}
